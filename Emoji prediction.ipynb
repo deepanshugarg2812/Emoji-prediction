{
 "cells": [
  {
   "cell_type": "markdown",
   "metadata": {},
   "source": [
    "### Emoji prediction"
   ]
  },
  {
   "cell_type": "code",
   "execution_count": 8,
   "metadata": {},
   "outputs": [],
   "source": [
    "##Import data set\n",
    "import numpy as np\n",
    "import pandas as pd\n",
    "df1 = pd.read_csv('train_emoji.csv',header=None)\n",
    "df2 = pd.read_csv('test_emoji.csv',header=None)"
   ]
  },
  {
   "cell_type": "code",
   "execution_count": 96,
   "metadata": {},
   "outputs": [
    {
     "name": "stdout",
     "output_type": "stream",
     "text": [
      "(132,) (132,) (56,)\n"
     ]
    }
   ],
   "source": [
    "## Converting data to numpy \n",
    "data = df1.values\n",
    "data_test = df2.values\n",
    "X_Train = data[:,0]\n",
    "Y_Train = data[:,1]\n",
    "X_Test = data_test[:,0]\n",
    "Y_Test = data_test[:,1]\n",
    "print(X_Train.shape,Y_Train.shape,X_Test.shape)\n",
    "#print(X_Train[0])\n",
    "#print(Y_Train[0])\n",
    "#print(X_Test[0])"
   ]
  },
  {
   "cell_type": "code",
   "execution_count": 81,
   "metadata": {},
   "outputs": [],
   "source": [
    "### Converting Y_Train into one hot vector\n",
    "from keras.utils import np_utils\n",
    "YTrain = np_utils.to_categorical(Y_Train)"
   ]
  },
  {
   "cell_type": "code",
   "execution_count": 82,
   "metadata": {},
   "outputs": [
    {
     "name": "stdout",
     "output_type": "stream",
     "text": [
      "❤️\n",
      "⚾\n",
      "😁\n",
      "😓\n",
      "🍴\n"
     ]
    }
   ],
   "source": [
    "#Importing emoji package and make a dictonary \n",
    "import emoji\n",
    "#emoji.EMOJI_UNICODE\n",
    "emoji_dictionary = {\"0\": \"\\u2764\\uFE0F\",    # :heart: prints a black instead of red heart depending on the font\n",
    "                    \"1\": \":baseball:\",\n",
    "                    \"2\": \":beaming_face_with_smiling_eyes:\",\n",
    "                    \"3\": \":downcast_face_with_sweat:\",\n",
    "                    \"4\": \":fork_and_knife:\",\n",
    "                   }\n",
    "## Numbers are the output of the model and names are mapping\n",
    "## Example\n",
    "def Print_emoji():\n",
    "    for e in emoji_dictionary.values():\n",
    "        print(emoji.emojize(e))\n",
    "Print_emoji()"
   ]
  },
  {
   "cell_type": "code",
   "execution_count": 83,
   "metadata": {},
   "outputs": [
    {
     "name": "stdout",
     "output_type": "stream",
     "text": [
      "400000\n"
     ]
    }
   ],
   "source": [
    "## Importing the pre-trained vector (Glove) Kaggle\n",
    "embedding_dict = {}\n",
    "with open('glove.6B.50d.txt',encoding='utf8') as f:\n",
    "    for lines in f:\n",
    "        #print(lines)\n",
    "        lines_s = lines.split()\n",
    "        #print(lines[1:])\n",
    "        word = lines_s[0]\n",
    "        values_arr = np.asarray(lines_s[1:],dtype='float32')\n",
    "        embedding_dict[word] = values_arr\n",
    "print(len(embedding_dict))"
   ]
  },
  {
   "cell_type": "code",
   "execution_count": 84,
   "metadata": {},
   "outputs": [],
   "source": [
    "### Converting the sentence in training into the vector\n",
    "def contruct_glove_embedding(X):\n",
    "    embedding_matrix_output = np.zeros((X.shape[0],10,50))\n",
    "    for ix in range(X.shape[0]):\n",
    "        X[ix] = X[ix].split()\n",
    "        for iy in range(len(X[ix])):\n",
    "            embedding_matrix_output[ix][iy] = embedding_dict[X[ix][iy].lower()]\n",
    "    return embedding_matrix_output\n",
    "X_Train_new = contruct_glove_embedding(X_Train)\n",
    "X_Test_new = contruct_glove_embedding(X_Test)"
   ]
  },
  {
   "cell_type": "code",
   "execution_count": 85,
   "metadata": {},
   "outputs": [],
   "source": [
    "## Importing layers from keras \n",
    "from keras.layers import *\n",
    "from keras.models import Sequential"
   ]
  },
  {
   "cell_type": "code",
   "execution_count": 143,
   "metadata": {},
   "outputs": [
    {
     "name": "stdout",
     "output_type": "stream",
     "text": [
      "Model: \"sequential_17\"\n",
      "_________________________________________________________________\n",
      "Layer (type)                 Output Shape              Param #   \n",
      "=================================================================\n",
      "lstm_37 (LSTM)               (None, 10, 64)            29440     \n",
      "_________________________________________________________________\n",
      "dropout_36 (Dropout)         (None, 10, 64)            0         \n",
      "_________________________________________________________________\n",
      "lstm_38 (LSTM)               (None, 10, 64)            33024     \n",
      "_________________________________________________________________\n",
      "dropout_37 (Dropout)         (None, 10, 64)            0         \n",
      "_________________________________________________________________\n",
      "lstm_39 (LSTM)               (None, 64)                33024     \n",
      "_________________________________________________________________\n",
      "dropout_38 (Dropout)         (None, 64)                0         \n",
      "_________________________________________________________________\n",
      "dense_12 (Dense)             (None, 5)                 325       \n",
      "_________________________________________________________________\n",
      "activation_9 (Activation)    (None, 5)                 0         \n",
      "=================================================================\n",
      "Total params: 95,813\n",
      "Trainable params: 95,813\n",
      "Non-trainable params: 0\n",
      "_________________________________________________________________\n"
     ]
    }
   ],
   "source": [
    "model = Sequential()\n",
    "model.add(LSTM(64,input_shape=(10,50),return_sequences=True))\n",
    "model.add(Dropout(0.4))\n",
    "model.add(LSTM(64,input_shape=(10,50),return_sequences=True))\n",
    "model.add(Dropout(0.3))\n",
    "model.add(LSTM(64,input_shape=(10,50)))\n",
    "model.add(Dropout(0.3))\n",
    "model.add(Dense(5))\n",
    "model.add(Activation('softmax'))\n",
    "model.summary()"
   ]
  },
  {
   "cell_type": "code",
   "execution_count": 144,
   "metadata": {},
   "outputs": [],
   "source": [
    "model.compile(optimizer='adam',loss='categorical_crossentropy',metrics=['acc'])"
   ]
  },
  {
   "cell_type": "code",
   "execution_count": 145,
   "metadata": {},
   "outputs": [
    {
     "name": "stdout",
     "output_type": "stream",
     "text": [
      "Train on 118 samples, validate on 14 samples\n",
      "Epoch 1/40\n",
      "118/118 [==============================] - 3s 21ms/step - loss: 1.6080 - acc: 0.2034 - val_loss: 1.5971 - val_acc: 0.3571\n",
      "Epoch 2/40\n",
      "118/118 [==============================] - 0s 2ms/step - loss: 1.5425 - acc: 0.3814 - val_loss: 1.6267 - val_acc: 0.3571\n",
      "Epoch 3/40\n",
      "118/118 [==============================] - 0s 1ms/step - loss: 1.5239 - acc: 0.3475 - val_loss: 1.6578 - val_acc: 0.3571\n",
      "Epoch 4/40\n",
      "118/118 [==============================] - 0s 962us/step - loss: 1.4870 - acc: 0.3559 - val_loss: 1.6480 - val_acc: 0.3571\n",
      "Epoch 5/40\n",
      "118/118 [==============================] - 0s 1ms/step - loss: 1.4314 - acc: 0.4746 - val_loss: 1.6113 - val_acc: 0.1429\n",
      "Epoch 6/40\n",
      "118/118 [==============================] - 0s 995us/step - loss: 1.3888 - acc: 0.4407 - val_loss: 1.5169 - val_acc: 0.2143\n",
      "Epoch 7/40\n",
      "118/118 [==============================] - 0s 1ms/step - loss: 1.3060 - acc: 0.5000 - val_loss: 1.4260 - val_acc: 0.4286\n",
      "Epoch 8/40\n",
      "118/118 [==============================] - 0s 1ms/step - loss: 1.2008 - acc: 0.6017 - val_loss: 1.5013 - val_acc: 0.3571\n",
      "Epoch 9/40\n",
      "118/118 [==============================] - 0s 1ms/step - loss: 1.0493 - acc: 0.6102 - val_loss: 1.3654 - val_acc: 0.4286\n",
      "Epoch 10/40\n",
      "118/118 [==============================] - 0s 1ms/step - loss: 0.9724 - acc: 0.6441 - val_loss: 1.1915 - val_acc: 0.5714\n",
      "Epoch 11/40\n",
      "118/118 [==============================] - 0s 1ms/step - loss: 0.9583 - acc: 0.6780 - val_loss: 1.3006 - val_acc: 0.4286\n",
      "Epoch 12/40\n",
      "118/118 [==============================] - 0s 1ms/step - loss: 0.7334 - acc: 0.7542 - val_loss: 1.1227 - val_acc: 0.5000\n",
      "Epoch 13/40\n",
      "118/118 [==============================] - 0s 1ms/step - loss: 0.7117 - acc: 0.8051 - val_loss: 0.9969 - val_acc: 0.5714\n",
      "Epoch 14/40\n",
      "118/118 [==============================] - 0s 1ms/step - loss: 0.6095 - acc: 0.8305 - val_loss: 1.1780 - val_acc: 0.5714\n",
      "Epoch 15/40\n",
      "118/118 [==============================] - 0s 1ms/step - loss: 0.4901 - acc: 0.8898 - val_loss: 0.9505 - val_acc: 0.6429\n",
      "Epoch 16/40\n",
      "118/118 [==============================] - 0s 1ms/step - loss: 0.4705 - acc: 0.8644 - val_loss: 1.1344 - val_acc: 0.5000\n",
      "Epoch 17/40\n",
      "118/118 [==============================] - 0s 1ms/step - loss: 0.4104 - acc: 0.8729 - val_loss: 1.2006 - val_acc: 0.6429\n",
      "Epoch 18/40\n",
      "118/118 [==============================] - 0s 1ms/step - loss: 0.3576 - acc: 0.8814 - val_loss: 0.9581 - val_acc: 0.7143\n",
      "Epoch 19/40\n",
      "118/118 [==============================] - 0s 1ms/step - loss: 0.4547 - acc: 0.8475 - val_loss: 0.9136 - val_acc: 0.6429\n",
      "Epoch 20/40\n",
      "118/118 [==============================] - 0s 1ms/step - loss: 0.3710 - acc: 0.8729 - val_loss: 1.6216 - val_acc: 0.5000\n",
      "Epoch 21/40\n",
      "118/118 [==============================] - 0s 1ms/step - loss: 0.4428 - acc: 0.8559 - val_loss: 1.1467 - val_acc: 0.4286\n",
      "Epoch 22/40\n",
      "118/118 [==============================] - 0s 1ms/step - loss: 0.3434 - acc: 0.8644 - val_loss: 0.8745 - val_acc: 0.6429\n",
      "Epoch 23/40\n",
      "118/118 [==============================] - 0s 1ms/step - loss: 0.3084 - acc: 0.9068 - val_loss: 1.1945 - val_acc: 0.6429\n",
      "Epoch 24/40\n",
      "118/118 [==============================] - 0s 1ms/step - loss: 0.2677 - acc: 0.9237 - val_loss: 1.2972 - val_acc: 0.6429\n",
      "Epoch 25/40\n",
      "118/118 [==============================] - 0s 1ms/step - loss: 0.2525 - acc: 0.9153 - val_loss: 1.1891 - val_acc: 0.6429\n",
      "Epoch 26/40\n",
      "118/118 [==============================] - 0s 1ms/step - loss: 0.2013 - acc: 0.9153 - val_loss: 1.0444 - val_acc: 0.6429\n",
      "Epoch 27/40\n",
      "118/118 [==============================] - 0s 1ms/step - loss: 0.1876 - acc: 0.9322 - val_loss: 0.9705 - val_acc: 0.5714\n",
      "Epoch 28/40\n",
      "118/118 [==============================] - 0s 1ms/step - loss: 0.1912 - acc: 0.9407 - val_loss: 1.3245 - val_acc: 0.6429\n",
      "Epoch 29/40\n",
      "118/118 [==============================] - 0s 1ms/step - loss: 0.1490 - acc: 0.9492 - val_loss: 1.1606 - val_acc: 0.5714\n",
      "Epoch 30/40\n",
      "118/118 [==============================] - 0s 1ms/step - loss: 0.1156 - acc: 0.9576 - val_loss: 1.2190 - val_acc: 0.6429\n",
      "Epoch 31/40\n",
      "118/118 [==============================] - 0s 1ms/step - loss: 0.1155 - acc: 0.9576 - val_loss: 1.4976 - val_acc: 0.6429\n",
      "Epoch 32/40\n",
      "118/118 [==============================] - 0s 1ms/step - loss: 0.1784 - acc: 0.9407 - val_loss: 1.3570 - val_acc: 0.6429\n",
      "Epoch 33/40\n",
      "118/118 [==============================] - 0s 1ms/step - loss: 0.1392 - acc: 0.9576 - val_loss: 1.2589 - val_acc: 0.6429\n",
      "Epoch 34/40\n",
      "118/118 [==============================] - 0s 1ms/step - loss: 0.0914 - acc: 0.9746 - val_loss: 0.9903 - val_acc: 0.7143\n",
      "Epoch 35/40\n",
      "118/118 [==============================] - 0s 1ms/step - loss: 0.1058 - acc: 0.9576 - val_loss: 1.4229 - val_acc: 0.5714\n",
      "Epoch 36/40\n",
      "118/118 [==============================] - 0s 1ms/step - loss: 0.0698 - acc: 0.9831 - val_loss: 1.1410 - val_acc: 0.5714\n",
      "Epoch 37/40\n",
      "118/118 [==============================] - 0s 1ms/step - loss: 0.0591 - acc: 0.9915 - val_loss: 1.0213 - val_acc: 0.6429\n",
      "Epoch 38/40\n",
      "118/118 [==============================] - 0s 1ms/step - loss: 0.0416 - acc: 1.0000 - val_loss: 1.4033 - val_acc: 0.6429\n",
      "Epoch 39/40\n",
      "118/118 [==============================] - 0s 1ms/step - loss: 0.0702 - acc: 0.9831 - val_loss: 1.4988 - val_acc: 0.5714\n",
      "Epoch 40/40\n",
      "118/118 [==============================] - 0s 1ms/step - loss: 0.0495 - acc: 0.9915 - val_loss: 0.9595 - val_acc: 0.5714\n"
     ]
    }
   ],
   "source": [
    "from keras.callbacks import EarlyStopping,ModelCheckpoint\n",
    "checkpounts = ModelCheckpoint(\"Model_weights.h5\",save_best_only=True,save_weights_only=True)\n",
    "EarlyStopping(patience=10,monitor='val_acc')\n",
    "hist = model.fit(X_Train_new,YTrain,batch_size=32,epochs=40,shuffle=True,validation_split=0.1)"
   ]
  },
  {
   "cell_type": "code",
   "execution_count": 135,
   "metadata": {},
   "outputs": [],
   "source": [
    "val_loss = hist.history['val_loss']\n",
    "val_acc = hist.history['val_acc']\n",
    "loss =  hist.history['loss']\n",
    "acc = hist.history['acc']"
   ]
  },
  {
   "cell_type": "code",
   "execution_count": 130,
   "metadata": {},
   "outputs": [
    {
     "name": "stdout",
     "output_type": "stream",
     "text": [
      "dict_keys(['val_loss', 'val_acc', 'loss', 'acc'])\n"
     ]
    }
   ],
   "source": [
    "print(hist.history.keys())"
   ]
  },
  {
   "cell_type": "code",
   "execution_count": 139,
   "metadata": {},
   "outputs": [
    {
     "data": {
      "image/png": "[encoded data removed]",
      "text/plain": [
       "<Figure size 432x288 with 1 Axes>"
      ]
     },
     "metadata": {
      "needs_background": "light"
     },
     "output_type": "display_data"
    }
   ],
   "source": [
    "import matplotlib.pyplot as plt\n",
    "plt.plot(val_loss,color='red',label='val_loss')\n",
    "plt.plot(val_acc,color='green',label='val_acc')\n",
    "plt.plot(loss,color='yellow',label='loss')\n",
    "plt.plot(acc,color='blue',label='acc')\n",
    "plt.legend()\n",
    "plt.show()"
   ]
  },
  {
   "cell_type": "markdown",
   "metadata": {},
   "source": [
    "### Prediction"
   ]
  },
  {
   "cell_type": "code",
   "execution_count": 147,
   "metadata": {},
   "outputs": [],
   "source": [
    "Y_pred = model.predict_classes(X_Test_new)"
   ]
  },
  {
   "cell_type": "code",
   "execution_count": 151,
   "metadata": {},
   "outputs": [
    {
     "name": "stdout",
     "output_type": "stream",
     "text": [
      "I want to eat\t 🍴\n",
      "he did not answer\t 😓\n",
      "he got a raise\t 😓\n",
      "she got me a present\t 😓\n",
      "ha ha ha it was so funny\t 😁\n"
     ]
    }
   ],
   "source": [
    "def predict_emoji(num):\n",
    "    print(emoji.emojize(emoji_dictionary[str(num)]))\n",
    "for i in range(len(Y_pred[:5])):\n",
    "    print(X_Test[i],end=\" \")\n",
    "    predict_emoji(Y_pred[i])"
   ]
  },
  {
   "cell_type": "code",
   "execution_count": null,
   "metadata": {},
   "outputs": [],
   "source": []
  }
 ],
 "metadata": {
  "kernelspec": {
   "display_name": "Python 3",
   "language": "python",
   "name": "python3"
  },
  "language_info": {
   "codemirror_mode": {
    "name": "ipython",
    "version": 3
   },
   "file_extension": ".py",
   "mimetype": "text/x-python",
   "name": "python",
   "nbconvert_exporter": "python",
   "pygments_lexer": "ipython3",
   "version": "3.7.4"
  }
 },
 "nbformat": 4,
 "nbformat_minor": 2
}
